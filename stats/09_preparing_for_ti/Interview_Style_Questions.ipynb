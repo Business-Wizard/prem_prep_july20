{
 "cells": [
  {
   "cell_type": "markdown",
   "metadata": {},
   "source": [
    "# TI - style questions (2020-08-20)\n",
    "* textbook-style problems\n",
    "    * Recognizing and Solving\n",
    "        * Binomial\n",
    "        * Poisson\n",
    "        * Geometric\n",
    "    * Basic Probability/Simple Conditional Probability\n",
    "    * Random Variable definitions\n",
    "* Understanding binary through the lens of a series of independent trials\n",
    "* Coding mathematical formulations\n",
    "* Dictionaries\n",
    "    * Packing values into dictionaries\n",
    "        * Checking membership vs not checking membership\n",
    "    * Transforming Dictionary values\n",
    "    * General analytic approach\n",
    "        * Create generative process\n",
    "        * Load into dictionary\n",
    "        * Interpret"
   ]
  },
  {
   "cell_type": "markdown",
   "metadata": {},
   "source": [
    "You are sitting at a busy intersection. On average, two out of every 13 cars that drive by has more than one person in it. What is the probability that, in one particular set of observations, 10 out of 20 cars have more than one person?"
   ]
  },
  {
   "cell_type": "code",
   "execution_count": 1,
   "metadata": {},
   "outputs": [
    {
     "name": "stdout",
     "output_type": "stream",
     "text": [
      "0.0002582012338133548\n"
     ]
    }
   ],
   "source": [
    "def factorial(n):\n",
    "    prod = 1\n",
    "    for num in range(1, 1+n):\n",
    "        prod *= num\n",
    "    return prod\n",
    "\n",
    "def combinations(n, k):\n",
    "    return int(factorial(n) / (factorial(n-k) * factorial(k)))\n",
    "\n",
    "def binomial_pmf(n, k, p=0.5):\n",
    "    return combinations(n, k) * (p**k) * ((1-p)**(n-k))\n",
    "\n",
    "print(binomial_pmf(20, 10, p=(2/13)))"
   ]
  },
  {
   "cell_type": "markdown",
   "metadata": {},
   "source": [
    "## Write and solve a new binomial problem"
   ]
  },
  {
   "cell_type": "code",
   "execution_count": null,
   "metadata": {},
   "outputs": [],
   "source": [
    "'''\n",
    "new_binomial_problem\n",
    "10 out of 14 people wear a mask outside\n",
    "what is the probability 5 out of 10 people are wearing a mask outside?\n",
    "'''\n",
    "print(binomial_pmf(10, 5, 10/14))\n",
    "\n",
    "\n",
    "'''\n",
    "At local pizza parlor, 4 of every 10 custom orders includes pepperoni.  \n",
    "For the next 13 orders placed, what is the probability that \n",
    "8 of them will include pepperoni?\n",
    "'''\n",
    "print(binomial_pmf(13, 8, .4))\n",
    "\n",
    "\n",
    "'''\n",
    "Ronaldo scores 1 out of 7 chances. What is the chance that \n",
    "Ronaldo scores 4 goals in 50 chances?\n",
    "'''\n",
    "print(binomial_pmf(50,4,p=(1/7)))\n",
    "# 0.07986370518112325\n",
    "\n",
    "\n",
    "# On average it snows 2 days a week in February. \n",
    "# What is the probability that it will snow on 10 days next February?\n",
    "print(binomial_pmf(n=28, k=10, p=2/7)) # = .11\n",
    "\n",
    "\n",
    "\"\"\"You are hunting for the rare 5 leaf clover. \n",
    "The average clover has 3 leaves at a rate of 73%.\n",
    "2/1600 clovers have 5 leaves. What is the probability \n",
    "you found one 5 leaf clover out of 1200.\"\"\"\n",
    "print(binomial_pmf(1200, 1, (2/1600)))\n",
    "# 0.33479984880218155\n",
    "\n",
    "\n",
    "#If three out of 10 customers purchase an item when \n",
    "# they walk into a store, what is that probability \n",
    "# that 7 out of 10 customers purchase an item\n",
    "print(binomial_pmf(10, 7, 3/10))\n",
    "# 0.009001691999999995\n",
    "\n",
    "\n",
    "'''A given coffee shop sees a constant flow of visitors. \n",
    "Every morning, on average, 15/20 patrons buy croissants.\n",
    "What is the probability that one morning, \n",
    "18/20 visitors buy croissants?'''\n",
    "binomial_pmf(20, 18, p = 15/20)\n",
    "\n",
    "\n",
    "'''On average, 4 out of 10 people wear masks at the store.  \n",
    "What is the probability that on\n",
    "one day at the store, 8 of the 50 people wore a mask?'''\n",
    "binomial_pmf(50, 8, p = 0.4)\n",
    "\n",
    "\n",
    "# On average 3 out of every 13 kids like tuna. \n",
    "# If you randomly select 30 kids, \n",
    "# what is the probability that 12 of them like tuna?\n",
    "print(binomial_pmf(30, 12, 3/13)) #0.017544321532988943\n",
    "\n",
    "\n",
    "'''On average, it rains in California 10 days out of the year. \n",
    "What is the probability that it will rain 20 days next \n",
    "year in California '''\n",
    "print(binomial_pmf(365, 20, 10/365)\n",
    "\n",
    "      \n",
    "\n",
    "\"\"\"\n",
    "You are observing a par three. Assuming every golfer is a pro. \n",
    "1 out of every 95  golfers make\n",
    "a hole in 1. What are the chance you observe 2 holes in 1 \n",
    "if you only watch 30 golfers. \n",
    "\"\"\"\n",
    "print(binomial_pmf(30, 2, 1/95)"
   ]
  },
  {
   "cell_type": "markdown",
   "metadata": {},
   "source": [
    "Forty cars pass by a busy street every 2 minutes during lunch hour. What is the probability that Fifty cars pass by in 3 minutes during lunch hour?"
   ]
  },
  {
   "cell_type": "code",
   "execution_count": 2,
   "metadata": {},
   "outputs": [
    {
     "data": {
      "text/plain": [
       "0.023271197528281395"
      ]
     },
     "execution_count": 2,
     "metadata": {},
     "output_type": "execute_result"
    }
   ],
   "source": [
    "from math import e\n",
    "def poisson_pmf(lmbda, k):\n",
    "    return (lmbda**k * e**(-lmbda)) / factorial(k)\n",
    "\n",
    "lmbda = 40 * 3/2\n",
    "\n",
    "poisson_pmf(lmbda, 50)"
   ]
  },
  {
   "cell_type": "markdown",
   "metadata": {},
   "source": [
    "## Write and solve a new Poisson problem"
   ]
  },
  {
   "cell_type": "code",
   "execution_count": null,
   "metadata": {},
   "outputs": [],
   "source": [
    "'''\n",
    "On the weekend, during lunchtime, 50 people enter the trailhead \n",
    "in an hour.\n",
    "What is the probability that 60 people will enter the trailhead \n",
    "in two hours?\n",
    "'''\n",
    "print(poisson_pmf(100, 60))\n",
    "\n",
    "\n",
    "'''\n",
    "Cars run a red light at a rate of 3 per 45 minutes.  \n",
    "What is the prob that 8 cars run \n",
    "redlight in next 2 hours?\n",
    "'''\n",
    "print(poisson_pmf(3*120/45, 8))\n",
    "# 0.13958653195059698\n",
    "\n",
    "\n",
    "'''\n",
    "Sitting on a street corner regularly,\n",
    "you've noticed that on avergage, 2 runners go by every 10 minutes\n",
    "What is the probability you would see 3 runners in an hour?\n",
    "'''\n",
    "lmbda = 12\n",
    "k = 3\n",
    "print(poisson_pmf(lmbda, k))\n",
    "\n",
    "\n",
    "'''On average an NBA team scores 10 points in 5 minutes. \n",
    "What is the probability that they will score 130 point in 60 minutes?\n",
    "'''\n",
    "lmbda = 120\n",
    "k = 130\n",
    "print (poisson_pmf(lmbda, k))\n",
    "#0.02330939500998483\n",
    "\n",
    "\n",
    "'''\n",
    "Ten Youtube videos are uploaded every 5 seconds. \n",
    "What is the probability that 15 videos are not uploaded in 10 seconds?\n",
    "'''\n",
    "lmbda = 10 * 10/5\n",
    "k = 15\n",
    "print(1 - poisson_pmf(lmbda, k))\n",
    "\n",
    "\n",
    "'''My neighbors dog barked 10 times in the last 5 minutes. \n",
    "If he keeps barking at this rate, what is the probability \n",
    "that he will bark 27 times over the next 15 minutes?\n",
    "'''\n",
    "poisson_pmf(lam=30, k = 27) # = .065\n",
    "\n",
    "\n",
    "'''\n",
    "In Moore County on election day, an average of 20 voters \n",
    "successfully submit their ballot per hour.  \n",
    "What is the probability that 100 voters will submit their \n",
    "ballot in 4 hours/\n",
    "'''\n",
    "print(poisson_pmf(80, 100))\n",
    "# 0.003939458159199277\n",
    "\n",
    "\n",
    "'''\n",
    "10 birds pass by a my window every 5 minutes during in the \n",
    "afternoon. What is the probability that 30 birds pass by \n",
    "10 minutes this afternoon?\n",
    "'''\n",
    "poisson_pmf(lmbda=20, k=30)"
   ]
  },
  {
   "cell_type": "markdown",
   "metadata": {},
   "source": [
    "<br><br><br>\n",
    "Consider a random variable $Z$.\n",
    "\n",
    "$Z = 0$ :  When the sum of a 6 sided die and a 36 sided die is even.\n",
    "\n",
    "$Z = 1$ :  When the sum of a 6 sided die and a 36 sided die is odd.\n",
    "\n",
    "What is the probability that three successive dice rolls result in this sequence of outcomes:\n",
    "$Z=1, Z=1, Z=0$"
   ]
  },
  {
   "cell_type": "code",
   "execution_count": 6,
   "metadata": {},
   "outputs": [
    {
     "name": "stdout",
     "output_type": "stream",
     "text": [
      "108\n",
      "108\n",
      "0.125\n"
     ]
    }
   ],
   "source": [
    "outcomes_distr = []\n",
    "\n",
    "for i in range(1, 6+1):\n",
    "    for j in range(1, 36+1):\n",
    "        if (i+j) % 2 == 0:\n",
    "            outcomes_distr.append(0)\n",
    "        else:\n",
    "            outcomes_distr.append(1)\n",
    "            \n",
    "print(outcomes_distr.count(0))\n",
    "print(outcomes_distr.count(1))\n",
    "\n",
    "print(0.5**3)\n"
   ]
  },
  {
   "cell_type": "markdown",
   "metadata": {},
   "source": [
    "<br><br><br>\n",
    "Consider a 4 trit list of trinary.\n",
    "\n",
    "$Y = 0$ :  When the sum of the 4 trit trinary is 0.\n",
    "\n",
    "$Y = 1$ :  When the sum of the trinary is greater than 0.\n",
    "\n",
    "What is the probability that three successive outcomes of Y are:\n",
    "$Y=1, Y=1, Y=0$"
   ]
  },
  {
   "cell_type": "code",
   "execution_count": 7,
   "metadata": {},
   "outputs": [
    {
     "name": "stdout",
     "output_type": "stream",
     "text": [
      "[0, 1, 2, 1, 2, 3, 2, 3, 4, 1, 2, 3, 2, 3, 4, 3, 4, 5, 2, 3, 4, 3, 4, 5, 4, 5, 6, 1, 2, 3, 2, 3, 4, 3, 4, 5, 2, 3, 4, 3, 4, 5, 4, 5, 6, 3, 4, 5, 4, 5, 6, 5, 6, 7, 2, 3, 4, 3, 4, 5, 4, 5, 6, 3, 4, 5, 4, 5, 6, 5, 6, 7, 4, 5, 6, 5, 6, 7, 6, 7, 8]\n"
     ]
    }
   ],
   "source": [
    "outcomes = []\n",
    "\n",
    "for i in range(3):\n",
    "    for j in range(3):\n",
    "        for k in range(3):\n",
    "            for l in range(3):\n",
    "                outcomes.append(sum([i,j,k,l]))\n",
    "                \n",
    "print(outcomes)"
   ]
  },
  {
   "cell_type": "markdown",
   "metadata": {},
   "source": [
    "P(𝑌=0) = 0.01234"
   ]
  },
  {
   "cell_type": "code",
   "execution_count": 10,
   "metadata": {},
   "outputs": [
    {
     "data": {
      "text/plain": [
       "0.012037327880904"
      ]
     },
     "execution_count": 10,
     "metadata": {},
     "output_type": "execute_result"
    }
   ],
   "source": [
    "# P(𝑌=0) = 1 / len(outcomes)\n",
    "(1 - 0.01234) * (1 - 0.01234) * (0.01234)"
   ]
  },
  {
   "cell_type": "markdown",
   "metadata": {},
   "source": [
    "<br><br><br>\n",
    "Consider a random variable $A$\n",
    "\n",
    "$A$ is the result of 6 dice rolls processed according to this algorithm:\n",
    "\n",
    "$$\n",
    "\\sum_{i=1}^n roll_i \\times \\frac{1}{2}^\\frac{i}{6}\n",
    "$$\n",
    "\n",
    "\n",
    "What is the probability that:\n",
    "\n",
    "$A$ <= 5\n",
    "\n",
    "$A$ > 10\n",
    "\n",
    "\n",
    "How would you approach analyzing the distribution of these outcomes?"
   ]
  },
  {
   "cell_type": "code",
   "execution_count": 13,
   "metadata": {
    "scrolled": false
   },
   "outputs": [
    {
     "name": "stdout",
     "output_type": "stream",
     "text": [
      "0.00015003429355281208\n",
      "0.928605109739369\n"
     ]
    }
   ],
   "source": [
    "def roll_math(lst):\n",
    "    out = 0.0\n",
    "    \n",
    "    for i, roll in enumerate(lst, 1):\n",
    "        out += roll * (1/2)**(i/6)\n",
    "        \n",
    "    return out\n",
    "\n",
    "rolls = []\n",
    "\n",
    "for r1 in range(1, 6+1):\n",
    "    for r2 in range(1, 6+1):\n",
    "        for r3 in range(1, 6+1):\n",
    "            for r4 in range(1, 6+1):\n",
    "                for r5 in range(1, 6+1):\n",
    "                    for r6 in range(1, 6+1):\n",
    "                        rolls.append(roll_math([r1, r2, r3, r4, r5, r6]))\n",
    "                        \n",
    "\n",
    "le_5 = []      \n",
    "for roll in rolls:\n",
    "    if roll <= 5:\n",
    "        le_5.append(roll)\n",
    "        \n",
    "print(len(le_5) / len(rolls))\n",
    "\n",
    "print(len([roll for roll in rolls if roll > 10]) / len(rolls))"
   ]
  },
  {
   "cell_type": "markdown",
   "metadata": {},
   "source": [
    "<br><br><br>\n",
    "Write a function called `roll_die` that returns a roll from a 6-sided die"
   ]
  },
  {
   "cell_type": "code",
   "execution_count": 31,
   "metadata": {},
   "outputs": [
    {
     "data": {
      "text/plain": [
       "1"
      ]
     },
     "execution_count": 31,
     "metadata": {},
     "output_type": "execute_result"
    }
   ],
   "source": [
    "from random import choice\n",
    "\n",
    "def roll_die():\n",
    "    return choice([1,2,3,4,5,6])\n",
    "\n",
    "roll_die()"
   ]
  },
  {
   "cell_type": "markdown",
   "metadata": {},
   "source": [
    "<br><br><br>\n",
    "\n",
    "Write a function called `roll_die_n_times` that returns a list containing the results of `n` rolls of a 6-sided die. Default to `n=6`"
   ]
  },
  {
   "cell_type": "code",
   "execution_count": 36,
   "metadata": {},
   "outputs": [
    {
     "data": {
      "text/plain": [
       "[1, 3, 2, 4, 6, 1]"
      ]
     },
     "execution_count": 36,
     "metadata": {},
     "output_type": "execute_result"
    }
   ],
   "source": [
    "def roll_die_n_times(n=6):\n",
    "    return [roll_die() for _ in range(n)]\n",
    "\n",
    "roll_die_n_times()"
   ]
  },
  {
   "cell_type": "markdown",
   "metadata": {},
   "source": [
    "<br><br><br>\n",
    "Write two functions, called `process_dice_rolls` and `dice_roll_math`. `process_dice_rolls` should have a single parameter `n`, representing the number of dice rolls. It should call out to `roll_die_n_times` and then pass that list into `dice_roll_math` to complete the following mathematical operation:\n",
    "\n",
    "if the sum of the dice rolls is even:\n",
    "\n",
    "$$\n",
    "\\sum_{i=1}^n roll_i \\times \\frac{1}{2}^\\frac{i}{6}\n",
    "$$\n",
    "\n",
    "if the sum of the dice rolls is odd:\n",
    "\n",
    "$$\n",
    "\\sum_{i=1}^n roll_i \\times \\frac{1}{3}^\\frac{i}{3}\n",
    "$$\n",
    "\n",
    "Both `process_dice_rolls` and `dice_roll_math` should return the scalar value that is the result of the above operation. `process_dice_rolls` should also return the list of dice roll sums that generated that scalar value"
   ]
  },
  {
   "cell_type": "code",
   "execution_count": null,
   "metadata": {},
   "outputs": [],
   "source": [
    "def dice_roll_math(rolls):\n",
    "    out = 0.0\n",
    "    \n",
    "    return out\n",
    "    \n",
    "    \n",
    "def process_dice_rolls(n=6):\n",
    "    rolls = roll_die_n_times(n=n)\n",
    "    \n",
    "    \n",
    "    return out, rolls"
   ]
  }
 ],
 "metadata": {
  "kernelspec": {
   "display_name": "Python 3",
   "language": "python",
   "name": "python3"
  },
  "language_info": {
   "codemirror_mode": {
    "name": "ipython",
    "version": 3
   },
   "file_extension": ".py",
   "mimetype": "text/x-python",
   "name": "python",
   "nbconvert_exporter": "python",
   "pygments_lexer": "ipython3",
   "version": "3.8.3"
  }
 },
 "nbformat": 4,
 "nbformat_minor": 4
}
