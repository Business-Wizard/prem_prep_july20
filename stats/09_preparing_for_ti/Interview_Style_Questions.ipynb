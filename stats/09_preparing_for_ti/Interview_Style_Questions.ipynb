{
 "cells": [
  {
   "cell_type": "markdown",
   "metadata": {},
   "source": [
    "# TI - style questions (2020-08-20)\n",
    "* textbook-style problems\n",
    "    * Recognizing and Solving\n",
    "        * Binomial\n",
    "        * Poisson\n",
    "        * Geometric\n",
    "    * Basic Probability/Simple Conditional Probability\n",
    "    * Random Variable definitions\n",
    "* Understanding binary through the lens of a series of independent trials\n",
    "* Coding mathematical formulations\n",
    "* Dictionaries\n",
    "    * Packing values into dictionaries\n",
    "        * Checking membership vs not checking membership\n",
    "    * Transforming Dictionary values\n",
    "    * General analytic approach\n",
    "        * Create generative process\n",
    "        * Load into dictionary\n",
    "        * Interpret"
   ]
  },
  {
   "cell_type": "markdown",
   "metadata": {},
   "source": [
    "You are sitting at a busy intersection. On average, two out of every 13 cars that drive by has more than one person in it. What is the probability that, in one particular set of observations, 10 out of 20 cars have more than one person?"
   ]
  },
  {
   "cell_type": "code",
   "execution_count": 1,
   "metadata": {},
   "outputs": [
    {
     "name": "stdout",
     "output_type": "stream",
     "text": [
      "0.0002582012338133548\n"
     ]
    }
   ],
   "source": [
    "def factorial(n):\n",
    "    prod = 1\n",
    "    for num in range(1, 1+n):\n",
    "        prod *= num\n",
    "    return prod\n",
    "\n",
    "def combinations(n, k):\n",
    "    return int(factorial(n) / (factorial(n-k) * factorial(k)))\n",
    "\n",
    "def binomial_pmf(n, k, p=0.5):\n",
    "    return combinations(n, k) * (p**k) * ((1-p)**(n-k))\n",
    "\n",
    "print(binomial_pmf(20, 10, p=(2/13)))"
   ]
  },
  {
   "cell_type": "markdown",
   "metadata": {},
   "source": [
    "## Write and solve a new binomial problem"
   ]
  },
  {
   "cell_type": "code",
   "execution_count": null,
   "metadata": {},
   "outputs": [],
   "source": [
    "'''\n",
    "new_binomial_problem\n",
    "10 out of 14 people wear a mask outside\n",
    "what is the probability 5 out of 10 people are wearing a mask outside?\n",
    "'''\n",
    "print(binomial_pmf(10, 5, 10/14))\n",
    "\n",
    "\n",
    "'''\n",
    "At local pizza parlor, 4 of every 10 custom orders includes pepperoni.  \n",
    "For the next 13 orders placed, what is the probability that \n",
    "8 of them will include pepperoni?\n",
    "'''\n",
    "print(binomial_pmf(13, 8, .4))\n",
    "\n",
    "\n",
    "'''\n",
    "Ronaldo scores 1 out of 7 chances. What is the chance that \n",
    "Ronaldo scores 4 goals in 50 chances?\n",
    "'''\n",
    "print(binomial_pmf(50,4,p=(1/7)))\n",
    "# 0.07986370518112325\n",
    "\n",
    "\n",
    "# On average it snows 2 days a week in February. \n",
    "# What is the probability that it will snow on 10 days next February?\n",
    "print(binomial_pmf(n=28, k=10, p=2/7)) # = .11\n",
    "\n",
    "\n",
    "\"\"\"You are hunting for the rare 5 leaf clover. \n",
    "The average clover has 3 leaves at a rate of 73%.\n",
    "2/1600 clovers have 5 leaves. What is the probability \n",
    "you found one 5 leaf clover out of 1200.\"\"\"\n",
    "print(binomial_pmf(1200, 1, (2/1600)))\n",
    "# 0.33479984880218155\n",
    "\n",
    "\n",
    "#If three out of 10 customers purchase an item when \n",
    "# they walk into a store, what is that probability \n",
    "# that 7 out of 10 customers purchase an item\n",
    "print(binomial_pmf(10, 7, 3/10))\n",
    "# 0.009001691999999995\n",
    "\n",
    "\n",
    "'''A given coffee shop sees a constant flow of visitors. \n",
    "Every morning, on average, 15/20 patrons buy croissants.\n",
    "What is the probability that one morning, \n",
    "18/20 visitors buy croissants?'''\n",
    "binomial_pmf(20, 18, p = 15/20)\n",
    "\n",
    "\n",
    "'''On average, 4 out of 10 people wear masks at the store.  \n",
    "What is the probability that on\n",
    "one day at the store, 8 of the 50 people wore a mask?'''\n",
    "binomial_pmf(50, 8, p = 0.4)\n",
    "\n",
    "\n",
    "# On average 3 out of every 13 kids like tuna. \n",
    "# If you randomly select 30 kids, \n",
    "# what is the probability that 12 of them like tuna?\n",
    "print(binomial_pmf(30, 12, 3/13)) #0.017544321532988943\n",
    "\n",
    "\n",
    "'''On average, it rains in California 10 days out of the year. \n",
    "What is the probability that it will rain 20 days next \n",
    "year in California '''\n",
    "print(binomial_pmf(365, 20, 10/365)"
   ]
  },
  {
   "cell_type": "markdown",
   "metadata": {},
   "source": [
    "Forty cars pass by a busy street every 2 minutes during lunch hour. What is the probability that Fifty cars pass by in 3 minutes during lunch hour?"
   ]
  }
 ],
 "metadata": {
  "kernelspec": {
   "display_name": "Python 3",
   "language": "python",
   "name": "python3"
  },
  "language_info": {
   "codemirror_mode": {
    "name": "ipython",
    "version": 3
   },
   "file_extension": ".py",
   "mimetype": "text/x-python",
   "name": "python",
   "nbconvert_exporter": "python",
   "pygments_lexer": "ipython3",
   "version": "3.8.3"
  }
 },
 "nbformat": 4,
 "nbformat_minor": 4
}
