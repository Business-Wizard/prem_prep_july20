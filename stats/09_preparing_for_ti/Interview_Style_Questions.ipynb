{
 "cells": [
  {
   "cell_type": "markdown",
   "metadata": {},
   "source": [
    "# TI - style questions (2020-08-20)\n",
    "* textbook-style problems\n",
    "    * Recognizing and Solving\n",
    "        * Binomial\n",
    "        * Poisson\n",
    "        * Geometric\n",
    "    * Basic Probability/Simple Conditional Probability\n",
    "    * Random Variable definitions\n",
    "* Understanding binary through the lens of a series of independent trials\n",
    "* Coding mathematical formulations\n",
    "* Dictionaries\n",
    "    * Packing values into dictionaries\n",
    "        * Checking membership vs not checking membership\n",
    "    * Transforming Dictionary values\n",
    "    * General analytic approach\n",
    "        * Create generative process\n",
    "        * Load into dictionary\n",
    "        * Interpret"
   ]
  },
  {
   "cell_type": "markdown",
   "metadata": {},
   "source": [
    "You are sitting at a busy intersection. On average, two out of every 13 cars that drive by has more than one person in it. What is the probability that, in one particular set of observations, 10 out of 20 cars have more than one person?"
   ]
  },
  {
   "cell_type": "code",
   "execution_count": null,
   "metadata": {},
   "outputs": [],
   "source": [
    "def factorial(n):\n",
    "    prod = 1\n",
    "    for num in range(1, 1+n):\n",
    "        prod *= num\n",
    "    return prod\n",
    "\n",
    "def combinations(n, k):\n",
    "    return int(factorial(n) / (factorial(n-k) * factorial(k)))\n",
    "\n",
    "def binomial_pmf(n, k, p=0.5):\n",
    "    return combinations(n, k) * (p**k) * ((1-p)**(n-k))\n",
    "\n",
    "print(binomial)"
   ]
  },
  {
   "cell_type": "code",
   "execution_count": null,
   "metadata": {},
   "outputs": [],
   "source": []
  },
  {
   "cell_type": "code",
   "execution_count": null,
   "metadata": {},
   "outputs": [],
   "source": []
  }
 ],
 "metadata": {
  "kernelspec": {
   "display_name": "Python 3",
   "language": "python",
   "name": "python3"
  },
  "language_info": {
   "codemirror_mode": {
    "name": "ipython",
    "version": 3
   },
   "file_extension": ".py",
   "mimetype": "text/x-python",
   "name": "python",
   "nbconvert_exporter": "python",
   "pygments_lexer": "ipython3",
   "version": "3.8.3"
  }
 },
 "nbformat": 4,
 "nbformat_minor": 4
}
