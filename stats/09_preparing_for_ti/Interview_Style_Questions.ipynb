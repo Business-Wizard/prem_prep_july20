{
 "cells": [
  {
   "cell_type": "markdown",
   "metadata": {},
   "source": [
    "# TI - style questions (2020-08-20)\n",
    "* textbook-style problems\n",
    "    * Recognizing and Solving\n",
    "        * Binomial\n",
    "        * Poisson\n",
    "        * Geometric\n",
    "    * Basic Probability/Simple Conditional Probability\n",
    "    * Random Variable definitions\n",
    "* Understanding binary through the lens of a series of independent trials\n",
    "* Coding mathematical formulations\n",
    "* Dictionaries\n",
    "    * Packing values into dictionaries\n",
    "        * Checking membership vs not checking membership\n",
    "    * Transforming Dictionary values\n",
    "    * General analytic approach\n",
    "        * Create generative process\n",
    "        * Load into dictionary\n",
    "        * Interpret"
   ]
  },
  {
   "cell_type": "code",
   "execution_count": null,
   "metadata": {},
   "outputs": [],
   "source": []
  }
 ],
 "metadata": {
  "kernelspec": {
   "display_name": "Python 3",
   "language": "python",
   "name": "python3"
  },
  "language_info": {
   "codemirror_mode": {
    "name": "ipython",
    "version": 3
   },
   "file_extension": ".py",
   "mimetype": "text/x-python",
   "name": "python",
   "nbconvert_exporter": "python",
   "pygments_lexer": "ipython3",
   "version": "3.8.3"
  }
 },
 "nbformat": 4,
 "nbformat_minor": 4
}
