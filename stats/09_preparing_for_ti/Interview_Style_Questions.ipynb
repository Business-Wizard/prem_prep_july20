{
 "cells": [
  {
   "cell_type": "markdown",
   "metadata": {},
   "source": [
    "# TI - style questions (2020-08-20)\n",
    "* textbook-style problems\n",
    "    * Recognizing and Solving\n",
    "        * Binomial\n",
    "        * Poisson\n",
    "        * Geometric\n",
    "    * Basic Probability/Simple Conditional Probability\n",
    "    * Random Variable definitions\n",
    "* Understanding binary through the lens of a series of independent trials\n",
    "    * not included here, but good to consider\n",
    "* Coding mathematical formulations\n",
    "* Dictionaries\n",
    "    * Packing values into dictionaries\n",
    "        * Checking membership vs not checking membership\n",
    "    * Transforming Dictionary values\n",
    "    * General analytic approach\n",
    "        * Create generative process\n",
    "        * Load into dictionary\n",
    "        * Interpret"
   ]
  },
  {
   "cell_type": "markdown",
   "metadata": {},
   "source": [
    "You are sitting at a busy intersection. On average, two out of every 13 cars that drive by has more than one person in it. What is the probability that, in one particular set of observations, 10 out of 20 cars have more than one person?"
   ]
  },
  {
   "cell_type": "code",
   "execution_count": 8,
   "metadata": {},
   "outputs": [
    {
     "name": "stdout",
     "output_type": "stream",
     "text": [
      "0.0002582012338133548\n"
     ]
    }
   ],
   "source": [
    "def factorial(n):\n",
    "    prod = 1\n",
    "    for num in range(1, 1+n):\n",
    "        prod *= num\n",
    "    return prod\n",
    "\n",
    "def combinations(n, k):\n",
    "    return int(factorial(n) / (factorial(n-k) * factorial(k)))\n",
    "\n",
    "def binomial_pmf(n, k, p=0.5):\n",
    "    return combinations(n, k) * (p**k) * ((1-p)**(n-k))\n",
    "\n",
    "print(binomial_pmf(20, 10, p=(2/13)))"
   ]
  },
  {
   "cell_type": "markdown",
   "metadata": {},
   "source": [
    "## Write and solve a new binomial problem"
   ]
  },
  {
   "cell_type": "code",
   "execution_count": 9,
   "metadata": {},
   "outputs": [
    {
     "ename": "SyntaxError",
     "evalue": "invalid syntax (<ipython-input-9-011aa7568f84>, line 76)",
     "output_type": "error",
     "traceback": [
      "\u001b[0;36m  File \u001b[0;32m\"<ipython-input-9-011aa7568f84>\"\u001b[0;36m, line \u001b[0;32m76\u001b[0m\n\u001b[0;31m    \"\"\"\u001b[0m\n\u001b[0m    ^\u001b[0m\n\u001b[0;31mSyntaxError\u001b[0m\u001b[0;31m:\u001b[0m invalid syntax\n"
     ]
    }
   ],
   "source": [
    "'''\n",
    "new_binomial_problem\n",
    "10 out of 14 people wear a mask outside\n",
    "what is the probability 5 out of 10 people are wearing a mask outside?\n",
    "'''\n",
    "print(binomial_pmf(10, 5, 10/14))\n",
    "\n",
    "\n",
    "'''\n",
    "At local pizza parlor, 4 of every 10 custom orders includes pepperoni.  \n",
    "For the next 13 orders placed, what is the probability that \n",
    "8 of them will include pepperoni?\n",
    "'''\n",
    "print(binomial_pmf(13, 8, .4))\n",
    "\n",
    "\n",
    "'''\n",
    "Ronaldo scores 1 out of 7 chances. What is the chance that \n",
    "Ronaldo scores 4 goals in 50 chances?\n",
    "'''\n",
    "print(binomial_pmf(50,4,p=(1/7)))\n",
    "# 0.07986370518112325\n",
    "\n",
    "\n",
    "# On average it snows 2 days a week in February. \n",
    "# What is the probability that it will snow on 10 days next February?\n",
    "print(binomial_pmf(n=28, k=10, p=2/7)) # = .11\n",
    "\n",
    "\n",
    "\"\"\"You are hunting for the rare 5 leaf clover. \n",
    "The average clover has 3 leaves at a rate of 73%.\n",
    "2/1600 clovers have 5 leaves. What is the probability \n",
    "you found one 5 leaf clover out of 1200.\"\"\"\n",
    "print(binomial_pmf(1200, 1, (2/1600)))\n",
    "# 0.33479984880218155\n",
    "\n",
    "\n",
    "#If three out of 10 customers purchase an item when \n",
    "# they walk into a store, what is that probability \n",
    "# that 7 out of 10 customers purchase an item\n",
    "print(binomial_pmf(10, 7, 3/10))\n",
    "# 0.009001691999999995\n",
    "\n",
    "\n",
    "'''A given coffee shop sees a constant flow of visitors. \n",
    "Every morning, on average, 15/20 patrons buy croissants.\n",
    "What is the probability that one morning, \n",
    "18/20 visitors buy croissants?'''\n",
    "binomial_pmf(20, 18, p = 15/20)\n",
    "\n",
    "\n",
    "'''On average, 4 out of 10 people wear masks at the store.  \n",
    "What is the probability that on\n",
    "one day at the store, 8 of the 50 people wore a mask?'''\n",
    "binomial_pmf(50, 8, p = 0.4)\n",
    "\n",
    "\n",
    "# On average 3 out of every 13 kids like tuna. \n",
    "# If you randomly select 30 kids, \n",
    "# what is the probability that 12 of them like tuna?\n",
    "print(binomial_pmf(30, 12, 3/13)) #0.017544321532988943\n",
    "\n",
    "\n",
    "'''On average, it rains in California 10 days out of the year. \n",
    "What is the probability that it will rain 20 days next \n",
    "year in California '''\n",
    "print(binomial_pmf(365, 20, 10/365)\n",
    "\n",
    "      \n",
    "\n",
    "\"\"\"\n",
    "You are observing a par three. Assuming every golfer is a pro. \n",
    "1 out of every 95  golfers make\n",
    "a hole in 1. What are the chance you observe 2 holes in 1 \n",
    "if you only watch 30 golfers. \n",
    "\"\"\"\n",
    "print(binomial_pmf(30, 2, 1/95)"
   ]
  },
  {
   "cell_type": "markdown",
   "metadata": {},
   "source": [
    "Forty cars pass by a busy street every 2 minutes during lunch hour. What is the probability that Fifty cars pass by in 3 minutes during lunch hour?"
   ]
  },
  {
   "cell_type": "code",
   "execution_count": 10,
   "metadata": {},
   "outputs": [
    {
     "data": {
      "text/plain": [
       "0.023271197528281395"
      ]
     },
     "execution_count": 10,
     "metadata": {},
     "output_type": "execute_result"
    }
   ],
   "source": [
    "from math import e\n",
    "def poisson_pmf(lmbda, k):\n",
    "    return (lmbda**k * e**(-lmbda)) / factorial(k)\n",
    "\n",
    "lmbda = 40 * 3/2\n",
    "\n",
    "poisson_pmf(lmbda, 50)"
   ]
  },
  {
   "cell_type": "markdown",
   "metadata": {},
   "source": [
    "## Write and solve a new Poisson problem"
   ]
  },
  {
   "cell_type": "code",
   "execution_count": 11,
   "metadata": {},
   "outputs": [
    {
     "name": "stdout",
     "output_type": "stream",
     "text": [
      "4.4707147428753295e-06\n",
      "0.13958653195059698\n",
      "0.0017695331577585259\n",
      "0.02330939500998483\n",
      "0.9483511464682416\n"
     ]
    },
    {
     "ename": "TypeError",
     "evalue": "poisson_pmf() got an unexpected keyword argument 'lam'",
     "output_type": "error",
     "traceback": [
      "\u001b[0;31m----------------------------------------------\u001b[0m",
      "\u001b[0;31mTypeError\u001b[0m    Traceback (most recent call last)",
      "\u001b[0;32m<ipython-input-11-4b2ab165195f>\u001b[0m in \u001b[0;36m<module>\u001b[0;34m\u001b[0m\n\u001b[1;32m     49\u001b[0m \u001b[0mthat\u001b[0m \u001b[0mhe\u001b[0m \u001b[0mwill\u001b[0m \u001b[0mbark\u001b[0m \u001b[0;36m27\u001b[0m \u001b[0mtimes\u001b[0m \u001b[0mover\u001b[0m \u001b[0mthe\u001b[0m \u001b[0mnext\u001b[0m \u001b[0;36m15\u001b[0m \u001b[0mminutes\u001b[0m\u001b[0;31m?\u001b[0m\u001b[0;34m\u001b[0m\u001b[0;34m\u001b[0m\u001b[0m\n\u001b[1;32m     50\u001b[0m '''\n\u001b[0;32m---> 51\u001b[0;31m \u001b[0mpoisson_pmf\u001b[0m\u001b[0;34m(\u001b[0m\u001b[0mlam\u001b[0m\u001b[0;34m=\u001b[0m\u001b[0;36m30\u001b[0m\u001b[0;34m,\u001b[0m \u001b[0mk\u001b[0m \u001b[0;34m=\u001b[0m \u001b[0;36m27\u001b[0m\u001b[0;34m)\u001b[0m \u001b[0;31m# = .065\u001b[0m\u001b[0;34m\u001b[0m\u001b[0;34m\u001b[0m\u001b[0m\n\u001b[0m\u001b[1;32m     52\u001b[0m \u001b[0;34m\u001b[0m\u001b[0m\n\u001b[1;32m     53\u001b[0m \u001b[0;34m\u001b[0m\u001b[0m\n",
      "\u001b[0;31mTypeError\u001b[0m: poisson_pmf() got an unexpected keyword argument 'lam'"
     ]
    }
   ],
   "source": [
    "'''\n",
    "On the weekend, during lunchtime, 50 people enter the trailhead \n",
    "in an hour.\n",
    "What is the probability that 60 people will enter the trailhead \n",
    "in two hours?\n",
    "'''\n",
    "print(poisson_pmf(100, 60))\n",
    "\n",
    "\n",
    "'''\n",
    "Cars run a red light at a rate of 3 per 45 minutes.  \n",
    "What is the prob that 8 cars run \n",
    "redlight in next 2 hours?\n",
    "'''\n",
    "print(poisson_pmf(3*120/45, 8))\n",
    "# 0.13958653195059698\n",
    "\n",
    "\n",
    "'''\n",
    "Sitting on a street corner regularly,\n",
    "you've noticed that on avergage, 2 runners go by every 10 minutes\n",
    "What is the probability you would see 3 runners in an hour?\n",
    "'''\n",
    "lmbda = 12\n",
    "k = 3\n",
    "print(poisson_pmf(lmbda, k))\n",
    "\n",
    "\n",
    "'''On average an NBA team scores 10 points in 5 minutes. \n",
    "What is the probability that they will score 130 point in 60 minutes?\n",
    "'''\n",
    "lmbda = 120\n",
    "k = 130\n",
    "print (poisson_pmf(lmbda, k))\n",
    "#0.02330939500998483\n",
    "\n",
    "\n",
    "'''\n",
    "Ten Youtube videos are uploaded every 5 seconds. \n",
    "What is the probability that 15 videos are not uploaded in 10 seconds?\n",
    "'''\n",
    "lmbda = 10 * 10/5\n",
    "k = 15\n",
    "print(1 - poisson_pmf(lmbda, k))\n",
    "\n",
    "\n",
    "'''My neighbors dog barked 10 times in the last 5 minutes. \n",
    "If he keeps barking at this rate, what is the probability \n",
    "that he will bark 27 times over the next 15 minutes?\n",
    "'''\n",
    "poisson_pmf(lam=30, k = 27) # = .065\n",
    "\n",
    "\n",
    "'''\n",
    "In Moore County on election day, an average of 20 voters \n",
    "successfully submit their ballot per hour.  \n",
    "What is the probability that 100 voters will submit their \n",
    "ballot in 4 hours/\n",
    "'''\n",
    "print(poisson_pmf(80, 100))\n",
    "# 0.003939458159199277\n",
    "\n",
    "\n",
    "'''\n",
    "10 birds pass by a my window every 5 minutes during in the \n",
    "afternoon. What is the probability that 30 birds pass by \n",
    "10 minutes this afternoon?\n",
    "'''\n",
    "poisson_pmf(lmbda=20, k=30)"
   ]
  },
  {
   "cell_type": "markdown",
   "metadata": {},
   "source": [
    "<br><br><br>\n",
    "Consider a random variable $Z$.\n",
    "\n",
    "$Z = 0$ :  When the sum of a 6 sided die and a 36 sided die is even.\n",
    "\n",
    "$Z = 1$ :  When the sum of a 6 sided die and a 36 sided die is odd.\n",
    "\n",
    "What is the probability that three successive dice rolls result in this sequence of outcomes:\n",
    "$Z=1, Z=1, Z=0$"
   ]
  },
  {
   "cell_type": "code",
   "execution_count": 12,
   "metadata": {},
   "outputs": [
    {
     "name": "stdout",
     "output_type": "stream",
     "text": [
      "108\n",
      "108\n",
      "0.125\n"
     ]
    }
   ],
   "source": [
    "outcomes_distr = []\n",
    "\n",
    "for i in range(1, 6+1):\n",
    "    for j in range(1, 36+1):\n",
    "        if (i+j) % 2 == 0:\n",
    "            outcomes_distr.append(0)\n",
    "        else:\n",
    "            outcomes_distr.append(1)\n",
    "            \n",
    "print(outcomes_distr.count(0))\n",
    "print(outcomes_distr.count(1))\n",
    "\n",
    "print(0.5**3)\n"
   ]
  },
  {
   "cell_type": "markdown",
   "metadata": {},
   "source": [
    "<br><br><br>\n",
    "Consider a 4 trit list of trinary.\n",
    "\n",
    "$Y = 0$ :  When the sum of the 4 trit trinary is 0.\n",
    "\n",
    "$Y = 1$ :  When the sum of the trinary is greater than 0.\n",
    "\n",
    "What is the probability that three successive outcomes of Y are:\n",
    "$Y=1, Y=1, Y=0$"
   ]
  },
  {
   "cell_type": "code",
   "execution_count": 13,
   "metadata": {},
   "outputs": [
    {
     "name": "stdout",
     "output_type": "stream",
     "text": [
      "[0, 1, 2, 1, 2, 3, 2, 3, 4, 1, 2, 3, 2, 3, 4, 3, 4, 5, 2, 3, 4, 3, 4, 5, 4, 5, 6, 1, 2, 3, 2, 3, 4, 3, 4, 5, 2, 3, 4, 3, 4, 5, 4, 5, 6, 3, 4, 5, 4, 5, 6, 5, 6, 7, 2, 3, 4, 3, 4, 5, 4, 5, 6, 3, 4, 5, 4, 5, 6, 5, 6, 7, 4, 5, 6, 5, 6, 7, 6, 7, 8]\n"
     ]
    }
   ],
   "source": [
    "outcomes = []\n",
    "\n",
    "for i in range(3):\n",
    "    for j in range(3):\n",
    "        for k in range(3):\n",
    "            for l in range(3):\n",
    "                outcomes.append(sum([i,j,k,l]))\n",
    "                \n",
    "print(outcomes)"
   ]
  },
  {
   "cell_type": "markdown",
   "metadata": {},
   "source": [
    "P(𝑌=0) = 0.01234"
   ]
  },
  {
   "cell_type": "code",
   "execution_count": 14,
   "metadata": {},
   "outputs": [
    {
     "data": {
      "text/plain": [
       "0.012037327880904"
      ]
     },
     "execution_count": 14,
     "metadata": {},
     "output_type": "execute_result"
    }
   ],
   "source": [
    "# P(𝑌=0) = 1 / len(outcomes)\n",
    "(1 - 0.01234) * (1 - 0.01234) * (0.01234)"
   ]
  },
  {
   "cell_type": "markdown",
   "metadata": {},
   "source": [
    "<br><br><br>\n",
    "Consider a random variable $A$\n",
    "\n",
    "$A$ is the result of 6 dice rolls processed according to this algorithm:\n",
    "\n",
    "$$\n",
    "\\sum_{i=1}^n roll_i \\times \\frac{1}{2}^\\frac{i}{6}\n",
    "$$\n",
    "\n",
    "\n",
    "What is the probability that:\n",
    "\n",
    "$A$ <= 5\n",
    "\n",
    "$A$ > 10\n",
    "\n",
    "\n",
    "How would you approach analyzing the distribution of these outcomes?"
   ]
  },
  {
   "cell_type": "code",
   "execution_count": 15,
   "metadata": {
    "scrolled": false
   },
   "outputs": [
    {
     "name": "stdout",
     "output_type": "stream",
     "text": [
      "0.00015003429355281208\n",
      "0.928605109739369\n"
     ]
    }
   ],
   "source": [
    "def roll_math(lst):\n",
    "    out = 0.0\n",
    "    \n",
    "    for i, roll in enumerate(lst, 1):\n",
    "        out += roll * (1/2)**(i/6)\n",
    "        \n",
    "    return out\n",
    "\n",
    "rolls = []\n",
    "\n",
    "for r1 in range(1, 6+1):\n",
    "    for r2 in range(1, 6+1):\n",
    "        for r3 in range(1, 6+1):\n",
    "            for r4 in range(1, 6+1):\n",
    "                for r5 in range(1, 6+1):\n",
    "                    for r6 in range(1, 6+1):\n",
    "                        rolls.append(roll_math([r1, r2, r3, r4, r5, r6]))\n",
    "                        \n",
    "\n",
    "le_5 = []      \n",
    "for roll in rolls:\n",
    "    if roll <= 5:\n",
    "        le_5.append(roll)\n",
    "        \n",
    "print(len(le_5) / len(rolls))\n",
    "\n",
    "print(len([roll for roll in rolls if roll > 10]) / len(rolls))"
   ]
  },
  {
   "cell_type": "markdown",
   "metadata": {},
   "source": [
    "<br><br><br>\n",
    "Write a function called `roll_die` that returns a roll from a 6-sided die"
   ]
  },
  {
   "cell_type": "code",
   "execution_count": 16,
   "metadata": {},
   "outputs": [
    {
     "data": {
      "text/plain": [
       "1"
      ]
     },
     "execution_count": 16,
     "metadata": {},
     "output_type": "execute_result"
    }
   ],
   "source": [
    "from random import choice\n",
    "\n",
    "def roll_die():\n",
    "    return choice([1,2,3,4,5,6])\n",
    "\n",
    "roll_die()"
   ]
  },
  {
   "cell_type": "markdown",
   "metadata": {},
   "source": [
    "<br><br><br>\n",
    "\n",
    "Write a function called `roll_die_n_times` that returns a list containing the results of `n` rolls of a 6-sided die. Default to `n=6`"
   ]
  },
  {
   "cell_type": "code",
   "execution_count": 17,
   "metadata": {},
   "outputs": [
    {
     "data": {
      "text/plain": [
       "[4, 4, 2, 2, 2, 2]"
      ]
     },
     "execution_count": 17,
     "metadata": {},
     "output_type": "execute_result"
    }
   ],
   "source": [
    "def roll_die_n_times(n=6):\n",
    "    return [roll_die() for _ in range(n)]\n",
    "\n",
    "roll_die_n_times()"
   ]
  },
  {
   "cell_type": "markdown",
   "metadata": {},
   "source": [
    "<br><br><br>\n",
    "Write two functions, called `process_dice_rolls` and `dice_roll_math`. `process_dice_rolls` should have a single parameter `n`, representing the number of dice rolls. It should call out to `roll_die_n_times` and then pass that list into `dice_roll_math` to complete the following mathematical operation:\n",
    "\n",
    "if the sum of the dice rolls is even:\n",
    "\n",
    "$$\n",
    "\\sum_{i=1}^n roll_i \\times \\frac{1}{2}^\\frac{i}{6}\n",
    "$$\n",
    "\n",
    "if the sum of the dice rolls is odd:\n",
    "\n",
    "$$\n",
    "\\sum_{i=1}^n roll_i \\times \\frac{1}{3}^\\frac{i}{3}\n",
    "$$\n",
    "\n",
    "Both `process_dice_rolls` and `dice_roll_math` should return the scalar value that is the result of the above operation. `process_dice_rolls` should also return the list of dice roll sums that generated that scalar value"
   ]
  },
  {
   "cell_type": "code",
   "execution_count": 18,
   "metadata": {},
   "outputs": [
    {
     "data": {
      "text/plain": [
       "(10.085935175345385, [5, 6, 4, 5, 5, 4])"
      ]
     },
     "execution_count": 18,
     "metadata": {},
     "output_type": "execute_result"
    }
   ],
   "source": [
    "def dice_roll_math(rolls):\n",
    "    out = 0.0\n",
    "    \n",
    "    for i, roll in enumerate(rolls, 1):\n",
    "        if sum(rolls) % 2 == 0:\n",
    "            out += roll * (1/2)**(i/6)\n",
    "        else:\n",
    "            out += roll * (1/3)**(i/3)\n",
    "    return out\n",
    "    \n",
    "    \n",
    "def process_dice_rolls(n=6):\n",
    "    rolls = roll_die_n_times(n=n)\n",
    "    out = dice_roll_math(rolls)\n",
    "    return out, rolls\n",
    "\n",
    "process_dice_rolls(n=6)"
   ]
  },
  {
   "cell_type": "markdown",
   "metadata": {},
   "source": [
    "Write a function called `get_max_and_min` that simply estimates the min and max from our random number process"
   ]
  },
  {
   "cell_type": "code",
   "execution_count": 19,
   "metadata": {},
   "outputs": [
    {
     "data": {
      "text/plain": [
       "(2.4783364712385776, 28.36063238987583)"
      ]
     },
     "execution_count": 19,
     "metadata": {},
     "output_type": "execute_result"
    }
   ],
   "source": [
    "def get_max_and_min(n=6, num_trials=100000):\n",
    "    samples = []\n",
    "    \n",
    "    for _ in range(num_trials):\n",
    "        samples.append(process_dice_rolls(n=n)[0])\n",
    "        \n",
    "    return min(samples), max(samples)\n",
    "\n",
    "get_max_and_min(n=8)"
   ]
  },
  {
   "cell_type": "markdown",
   "metadata": {},
   "source": [
    "<br><br><br>\n",
    "\n",
    "Write a function called `analyze_dice_sums` that calls out to `process_dice_rolls` `num_samples=1000` times. Also include a parameter for the length of your dice roll list. Your function should return a dictionary where the keys represent integer buckets, named by the f-string convention: `f'2 <= x < 3'`, aka `f'{idx} <= x < {idx+1}'`. The associated values should be lists of lists, containing the rolls that generated numbers in those buckets.\n",
    "\n",
    "Note that you will need to use your max and min function to determine the high and low values for your dictionary"
   ]
  },
  {
   "cell_type": "code",
   "execution_count": 20,
   "metadata": {
    "scrolled": false
   },
   "outputs": [
    {
     "name": "stdout",
     "output_type": "stream",
     "text": [
      "2 <= x < 3: 2\n",
      "    [1, 1, 1, 2, 1, 3]\n",
      "    [2, 1, 1, 1, 1, 1]\n",
      "3 <= x < 4: 18\n",
      "    [2, 2, 2, 1, 1, 3]\n",
      "    [1, 2, 1, 4, 5, 2]\n",
      "    [1, 1, 3, 1, 4, 5]\n",
      "    [1, 1, 2, 1, 4, 4]\n",
      "    [1, 1, 3, 3, 3, 4]\n",
      "    [2, 1, 1, 3, 2, 6]\n",
      "    [1, 2, 1, 1, 5, 3]\n",
      "    [1, 1, 1, 3, 1, 6]\n",
      "    [1, 1, 3, 3, 3, 2]\n",
      "    [2, 1, 1, 2, 6, 1]\n",
      "4 <= x < 5: 47\n",
      "    [2, 1, 2, 6, 1, 3]\n",
      "    [2, 3, 2, 2, 1, 1]\n",
      "    [2, 2, 2, 1, 6, 6]\n",
      "    [2, 1, 4, 2, 5, 1]\n",
      "    [2, 1, 4, 1, 5, 2]\n",
      "    [1, 5, 1, 1, 6, 3]\n",
      "    [1, 2, 1, 4, 5, 6]\n",
      "    [1, 1, 3, 5, 6, 3]\n",
      "    [1, 4, 1, 1, 5, 3]\n",
      "    [2, 1, 3, 5, 4, 2]\n",
      "5 <= x < 6: 80\n",
      "    [1, 6, 3, 1, 4, 4]\n",
      "    [3, 2, 5, 1, 5, 1]\n",
      "    [4, 1, 2, 3, 3, 6]\n",
      "    [3, 1, 2, 6, 4, 1]\n",
      "    [2, 5, 1, 2, 4, 1]\n",
      "    [5, 1, 1, 1, 4, 3]\n",
      "    [2, 3, 3, 3, 5, 1]\n",
      "    [1, 6, 5, 1, 1, 1]\n",
      "    [2, 6, 2, 1, 1, 3]\n",
      "    [3, 2, 3, 5, 2, 4]\n",
      "6 <= x < 7: 109\n",
      "    [2, 5, 4, 3, 4, 3]\n",
      "    [3, 2, 3, 3, 6, 6]\n",
      "    [5, 2, 1, 4, 4, 5]\n",
      "    [2, 4, 5, 1, 6, 3]\n",
      "    [5, 2, 1, 1, 6, 6]\n",
      "    [3, 2, 6, 3, 1, 6]\n",
      "    [1, 2, 6, 5, 6, 3]\n",
      "    [1, 5, 4, 3, 6, 2]\n",
      "    [3, 3, 2, 6, 3, 4]\n",
      "    [1, 6, 4, 1, 6, 3]\n",
      "7 <= x < 8: 103\n",
      "    [2, 6, 5, 2, 5, 1]\n",
      "    [3, 5, 4, 4, 3, 2]\n",
      "    [5, 2, 5, 1, 2, 4]\n",
      "    [2, 6, 5, 4, 3, 1]\n",
      "    [6, 1, 3, 5, 1, 1]\n",
      "    [5, 2, 3, 5, 6, 2]\n",
      "    [4, 3, 6, 3, 6, 1]\n",
      "    [3, 5, 1, 6, 6, 4]\n",
      "    [5, 2, 6, 1, 1, 2]\n",
      "    [6, 1, 4, 5, 3, 2]\n",
      "8 <= x < 9: 94\n",
      "    [4, 1, 1, 2, 3, 1]\n",
      "    [6, 4, 3, 5, 2, 1]\n",
      "    [5, 3, 3, 6, 1, 5]\n",
      "    [6, 4, 2, 3, 3, 1]\n",
      "    [4, 5, 3, 4, 6, 1]\n",
      "    [6, 1, 6, 1, 6, 3]\n",
      "    [5, 6, 2, 3, 4, 5]\n",
      "    [6, 4, 1, 2, 5, 5]\n",
      "    [6, 1, 6, 2, 6, 4]\n",
      "    [6, 1, 6, 1, 3, 6]\n",
      "9 <= x < 10: 63\n",
      "    [3, 2, 3, 2, 2, 2]\n",
      "    [6, 4, 6, 4, 1, 2]\n",
      "    [5, 5, 5, 5, 4, 5]\n",
      "    [1, 6, 1, 3, 1, 2]\n",
      "    [6, 4, 1, 6, 6, 6]\n",
      "    [6, 5, 5, 1, 2, 6]\n",
      "    [4, 5, 6, 5, 1, 6]\n",
      "    [6, 6, 1, 2, 6, 2]\n",
      "    [2, 2, 1, 1, 6, 2]\n",
      "    [5, 4, 5, 6, 5, 2]\n",
      "10 <= x < 11: 49\n",
      "    [5, 2, 1, 1, 2, 3]\n",
      "    [6, 6, 6, 3, 1, 3]\n",
      "    [3, 4, 1, 1, 1, 6]\n",
      "    [6, 6, 5, 3, 1, 6]\n",
      "    [3, 1, 2, 5, 1, 4]\n",
      "    [2, 1, 2, 3, 2, 6]\n",
      "    [6, 6, 6, 2, 3, 6]\n",
      "    [2, 1, 5, 1, 4, 3]\n",
      "    [6, 6, 5, 2, 2, 6]\n",
      "    [1, 2, 5, 6, 1, 1]\n",
      "11 <= x < 12: 52\n",
      "    [2, 1, 6, 4, 1, 4]\n",
      "    [3, 3, 1, 6, 1, 2]\n",
      "    [1, 2, 2, 4, 5, 4]\n",
      "    [2, 5, 2, 3, 1, 3]\n",
      "    [6, 5, 6, 6, 4, 4]\n",
      "    [1, 3, 4, 2, 4, 4]\n",
      "    [2, 4, 3, 3, 2, 2]\n",
      "    [2, 3, 5, 2, 2, 2]\n",
      "    [1, 4, 4, 2, 5, 2]\n",
      "    [4, 1, 3, 1, 3, 6]\n",
      "12 <= x < 13: 64\n",
      "    [1, 1, 5, 5, 3, 5]\n",
      "    [4, 6, 2, 1, 1, 4]\n",
      "    [4, 2, 2, 1, 5, 4]\n",
      "    [6, 2, 1, 4, 1, 4]\n",
      "    [1, 3, 2, 6, 6, 2]\n",
      "    [2, 6, 3, 2, 4, 1]\n",
      "    [3, 6, 2, 3, 3, 1]\n",
      "    [1, 3, 6, 3, 4, 1]\n",
      "    [5, 1, 2, 4, 5, 1]\n",
      "    [4, 1, 4, 3, 4, 2]\n",
      "13 <= x < 14: 62\n",
      "    [2, 4, 5, 4, 1, 4]\n",
      "    [3, 1, 6, 2, 5, 3]\n",
      "    [5, 5, 1, 1, 4, 2]\n",
      "    [3, 2, 6, 1, 5, 3]\n",
      "    [1, 2, 6, 3, 5, 5]\n",
      "    [6, 1, 2, 6, 1, 4]\n",
      "    [2, 4, 5, 1, 5, 3]\n",
      "    [5, 4, 3, 1, 3, 2]\n",
      "    [3, 3, 6, 2, 1, 5]\n",
      "    [3, 5, 2, 6, 2, 2]\n",
      "14 <= x < 15: 57\n",
      "    [5, 3, 3, 3, 3, 3]\n",
      "    [4, 2, 4, 6, 3, 3]\n",
      "    [3, 2, 6, 1, 4, 6]\n",
      "    [3, 1, 5, 5, 3, 5]\n",
      "    [2, 5, 1, 6, 6, 2]\n",
      "    [3, 5, 1, 3, 6, 4]\n",
      "    [4, 3, 1, 5, 5, 4]\n",
      "    [1, 5, 6, 4, 2, 4]\n",
      "    [6, 2, 5, 1, 4, 2]\n",
      "    [1, 4, 3, 5, 6, 3]\n",
      "15 <= x < 16: 61\n",
      "    [6, 4, 4, 4, 1, 3]\n",
      "    [2, 6, 4, 4, 3, 3]\n",
      "    [3, 3, 6, 1, 5, 6]\n",
      "    [2, 4, 5, 2, 6, 5]\n",
      "    [1, 4, 4, 3, 6, 6]\n",
      "    [1, 5, 3, 5, 6, 4]\n",
      "    [5, 3, 4, 6, 3, 1]\n",
      "    [4, 2, 4, 5, 4, 5]\n",
      "    [2, 4, 5, 5, 4, 4]\n",
      "    [3, 3, 5, 6, 2, 5]\n",
      "16 <= x < 17: 52\n",
      "    [6, 4, 2, 1, 5, 6]\n",
      "    [5, 4, 2, 4, 5, 4]\n",
      "    [1, 6, 5, 4, 6, 2]\n",
      "    [1, 4, 6, 4, 6, 5]\n",
      "    [4, 4, 5, 5, 2, 4]\n",
      "    [6, 4, 4, 2, 5, 3]\n",
      "    [4, 2, 4, 5, 6, 5]\n",
      "    [1, 5, 6, 3, 5, 6]\n",
      "    [5, 2, 6, 5, 3, 3]\n",
      "    [3, 5, 4, 6, 1, 5]\n",
      "17 <= x < 18: 39\n",
      "    [5, 6, 2, 5, 2, 6]\n",
      "    [3, 6, 5, 6, 4, 2]\n",
      "    [6, 1, 2, 6, 6, 5]\n",
      "    [1, 6, 6, 6, 5, 2]\n",
      "    [5, 6, 3, 6, 3, 1]\n",
      "    [2, 6, 4, 3, 5, 6]\n",
      "    [6, 5, 4, 2, 4, 3]\n",
      "    [6, 5, 3, 2, 4, 6]\n",
      "    [5, 5, 3, 6, 2, 5]\n",
      "    [3, 5, 6, 2, 5, 5]\n",
      "18 <= x < 19: 22\n",
      "    [4, 6, 5, 6, 3, 2]\n",
      "    [6, 4, 6, 1, 5, 4]\n",
      "    [4, 4, 6, 5, 5, 4]\n",
      "    [5, 5, 4, 5, 4, 3]\n",
      "    [5, 2, 6, 6, 5, 4]\n",
      "    [6, 5, 4, 4, 2, 5]\n",
      "    [4, 6, 5, 5, 5, 1]\n",
      "    [6, 4, 6, 6, 1, 3]\n",
      "    [6, 6, 2, 6, 3, 3]\n",
      "    [4, 6, 5, 4, 3, 4]\n",
      "19 <= x < 20: 11\n",
      "    [3, 4, 6, 5, 6, 6]\n",
      "    [5, 6, 5, 5, 6, 1]\n",
      "    [3, 6, 6, 6, 6, 1]\n",
      "    [4, 6, 6, 5, 1, 6]\n",
      "    [6, 6, 5, 5, 1, 5]\n",
      "    [4, 6, 5, 4, 5, 4]\n",
      "    [6, 2, 4, 6, 6, 6]\n",
      "    [5, 6, 6, 3, 4, 4]\n",
      "    [5, 4, 6, 5, 3, 5]\n",
      "    [6, 6, 4, 2, 6, 4]\n",
      "20 <= x < 21: 9\n",
      "    [6, 5, 5, 5, 6, 3]\n",
      "    [5, 4, 6, 3, 6, 6]\n",
      "    [5, 5, 6, 5, 4, 5]\n",
      "    [6, 6, 6, 3, 4, 5]\n",
      "    [5, 5, 6, 5, 5, 4]\n",
      "    [5, 5, 6, 5, 5, 4]\n",
      "    [6, 4, 5, 5, 4, 6]\n",
      "    [6, 5, 6, 5, 3, 5]\n",
      "    [5, 6, 5, 6, 2, 6]\n",
      "21 <= x < 22: 5\n",
      "    [3, 6, 6, 6, 6, 5]\n",
      "    [4, 5, 5, 6, 6, 6]\n",
      "    [4, 6, 6, 6, 6, 4]\n",
      "    [6, 2, 6, 6, 6, 6]\n",
      "    [6, 6, 3, 5, 6, 6]\n",
      "22 <= x < 23: 1\n",
      "    [6, 6, 6, 5, 4, 5]\n",
      "23 <= x < 24: 0\n",
      "24 <= x < 25: 0\n",
      "25 <= x < 26: 0\n"
     ]
    }
   ],
   "source": [
    "def analyze_dice_sums(n=6, num_samples=1000):\n",
    "    d = dict()\n",
    "    \n",
    "    min_, max_ = get_max_and_min(n=n)\n",
    "    \n",
    "    # prime the dict\n",
    "    for i in range(int(min_), int(max_)+2):\n",
    "        d[f'{i} <= x < {i+1}'] = []\n",
    "        \n",
    "    \n",
    "    for _ in range(num_samples):\n",
    "        res, lst = process_dice_rolls(n)\n",
    "        res_int = int(res)\n",
    "        \n",
    "        d[f'{res_int} <= x < {res_int+1}'].append(lst)\n",
    "        \n",
    "    return d\n",
    "\n",
    "for k, v in analyze_dice_sums(n=6, num_samples=1000).items():\n",
    "    print(f'{k}: {len(v)}')\n",
    "    for lst in v[:10]:\n",
    "        print(f'    {lst}')"
   ]
  },
  {
   "cell_type": "markdown",
   "metadata": {},
   "source": [
    "Write a function called `dice_sum_counts` that utilizes the same keys as the previous function, but instead of lists of lists as values, simply provides the counts for items in each bucket"
   ]
  },
  {
   "cell_type": "code",
   "execution_count": 21,
   "metadata": {},
   "outputs": [],
   "source": [
    "def dice_sum_counts(n=6, num_samples=1000):\n",
    "    d = analyze_dice_sums(n, num_samples)\n",
    "    \n",
    "    for k, lst in d.items():\n",
    "        d[k] = len(lst)\n",
    "        \n",
    "    return d\n",
    "\n",
    "# dice_sum_counts(n=6, num_samples=1000)"
   ]
  },
  {
   "cell_type": "markdown",
   "metadata": {},
   "source": [
    "Write a function called `estimate_dice_probas` that calls out to `dice_sum_counts` `num_experiments=1000` times. The function should average the counts for each set of keys and return the estimated probability that randomly generated numbers fall into each of those buckets."
   ]
  },
  {
   "cell_type": "code",
   "execution_count": 23,
   "metadata": {},
   "outputs": [
    {
     "name": "stdout",
     "output_type": "stream",
     "text": [
      "0 1 2 3 4 5 6 7 8 9 10 11 12 13 14 15 16 17 18 19 20 21 22 23 24 25 26 27 28 29 30 31 32 33 34 35 36 37 38 39 40 41 42 43 44 45 46 47 48 49 50 51 52 53 54 55 56 57 58 59 60 61 62 63 64 65 66 67 68 69 70 71 72 73 74 75 76 77 78 79 80 81 82 83 84 85 86 87 88 89 90 91 92 93 94 95 96 97 98 99 "
     ]
    },
    {
     "data": {
      "text/plain": [
       "{'2 <= x < 3': 0.00134,\n",
       " '3 <= x < 4': 0.01326,\n",
       " '4 <= x < 5': 0.04264,\n",
       " '5 <= x < 6': 0.08106000000000001,\n",
       " '6 <= x < 7': 0.11159999999999999,\n",
       " '7 <= x < 8': 0.114,\n",
       " '8 <= x < 9': 0.09362000000000001,\n",
       " '9 <= x < 10': 0.06401000000000001,\n",
       " '10 <= x < 11': 0.04451,\n",
       " '11 <= x < 12': 0.0445,\n",
       " '12 <= x < 13': 0.05618,\n",
       " '13 <= x < 14': 0.06395,\n",
       " '14 <= x < 15': 0.06658,\n",
       " '15 <= x < 16': 0.06146,\n",
       " '16 <= x < 17': 0.051840000000000004,\n",
       " '17 <= x < 18': 0.03842,\n",
       " '18 <= x < 19': 0.02413,\n",
       " '19 <= x < 20': 0.015050000000000001,\n",
       " '20 <= x < 21': 0.00795,\n",
       " '21 <= x < 22': 0.00277,\n",
       " '22 <= x < 23': 0.00076,\n",
       " '23 <= x < 24': 0.00035999999999999997,\n",
       " '24 <= x < 25': 1e-05,\n",
       " '25 <= x < 26': 0.0}"
      ]
     },
     "execution_count": 23,
     "metadata": {},
     "output_type": "execute_result"
    }
   ],
   "source": [
    "def estimate_dice_probas(n=6, num_samples=1000, num_experiments=1000):\n",
    "    d = dict()\n",
    "    \n",
    "    for i in range(num_experiments):\n",
    "        print(i, end = ' ')\n",
    "        d_trial = dice_sum_counts(n, num_samples)\n",
    "        \n",
    "        for k, v in d_trial.items():\n",
    "            if k not in d:\n",
    "                d[k] = []\n",
    "            \n",
    "            d[k].append(v)\n",
    "            \n",
    "    for k, v in d.items():\n",
    "        d[k] = (sum(v) / len(v) / num_samples)\n",
    "        \n",
    "    return d\n",
    "\n",
    "estimate_dice_probas(n=6, num_samples=1000, num_experiments=100)"
   ]
  },
  {
   "cell_type": "code",
   "execution_count": null,
   "metadata": {},
   "outputs": [],
   "source": []
  }
 ],
 "metadata": {
  "kernelspec": {
   "display_name": "Python 3",
   "language": "python",
   "name": "python3"
  },
  "language_info": {
   "codemirror_mode": {
    "name": "ipython",
    "version": 3
   },
   "file_extension": ".py",
   "mimetype": "text/x-python",
   "name": "python",
   "nbconvert_exporter": "python",
   "pygments_lexer": "ipython3",
   "version": "3.8.3"
  }
 },
 "nbformat": 4,
 "nbformat_minor": 4
}
